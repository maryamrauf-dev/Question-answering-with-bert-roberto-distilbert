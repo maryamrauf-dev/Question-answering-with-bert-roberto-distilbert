{
 "cells": [
  {
   "cell_type": "code",
   "execution_count": null,
   "id": "a49d0ce4-eebd-4ef6-a588-148b9546c96c",
   "metadata": {},
   "outputs": [],
   "source": [
    "from transformers import BertForQuestionAnswering, BertTokenizer\n",
    "import torch\n",
    "import matplotlib.pyplot as plt\n",
    "import seaborn as sns\n",
    "import numpy as np\n"
   ]
  },
  {
   "cell_type": "code",
   "execution_count": null,
   "id": "069be487-1480-49f2-be5c-9f971e47c543",
   "metadata": {},
   "outputs": [],
   "source": [
    "model_name = \"bert-large-uncased-whole-word-masking-finetuned-squad\"\n",
    "model = BertForQuestionAnswering.from_pretrained(model_name)\n",
    "tokenizer = BertTokenizer.from_pretrained(model_name)"
   ]
  },
  {
   "cell_type": "code",
   "execution_count": null,
   "id": "74c0fd56-794a-46a9-a779-367b0763501c",
   "metadata": {},
   "outputs": [],
   "source": [
    "question = \"When was the first DVD released?\"\n",
    "text = \"The first DVD was released on March 24th, 1997, and quickly gained popularity worldwide.\"\n"
   ]
  },
  {
   "cell_type": "code",
   "execution_count": null,
   "id": "5095819c-9899-420d-9593-350425338add",
   "metadata": {},
   "outputs": [],
   "source": [
    "encodings = tokenizer.encode_plus(question, text, return_tensors=\"pt\")\n",
    "input_ids = encodings[\"input_ids\"]\n",
    "token_type_ids = encodings[\"token_type_ids\"]\n",
    "\n",
    "# Get tokens\n",
    "tokens = tokenizer.convert_ids_to_tokens(input_ids[0])\n",
    "\n",
    "# Pass through model\n",
    "outputs = model(input_ids, token_type_ids=token_type_ids)\n",
    "\n",
    "# Get start and end indexes\n",
    "start_idx = torch.argmax(outputs.start_logits)\n",
    "end_idx = torch.argmax(outputs.end_logits)\n",
    "\n",
    "# Get answer\n",
    "answer = \" \".join(tokens[start_idx:end_idx+1])\n",
    "print(\"Predicted Answer:\", tokenizer.convert_tokens_to_string(tokens[start_idx:end_idx+1]))\n"
   ]
  },
  {
   "cell_type": "code",
   "execution_count": null,
   "id": "1786038a-d69d-4f58-a8dd-59b055b2a9a5",
   "metadata": {},
   "outputs": [],
   "source": [
    "# Visualization of probabilities\n",
    "start_scores = outputs.start_logits.detach().numpy().flatten()\n",
    "end_scores = outputs.end_logits.detach().numpy().flatten()\n",
    "token_labels = [f\"{token}_{i}\" for i, token in enumerate(tokens)]\n",
    "\n",
    "plt.figure(figsize=(15, 5))\n",
    "sns.barplot(x=token_labels, y=start_scores)\n",
    "plt.xticks(rotation=90)\n",
    "plt.title(\"Start Token Scores\")\n",
    "plt.grid(axis=\"y\")\n",
    "plt.show()\n"
   ]
  },
  {
   "cell_type": "code",
   "execution_count": null,
   "id": "6a1744a2-13a4-40e3-873c-976de00525e8",
   "metadata": {},
   "outputs": [],
   "source": [
    "plt.figure(figsize=(15, 5))\n",
    "sns.barplot(x=token_labels, y=end_scores)\n",
    "plt.xticks(rotation=90)\n",
    "plt.title(\"End Token Scores\")\n",
    "plt.grid(axis=\"y\")\n",
    "plt.show()"
   ]
  },
  {
   "cell_type": "code",
   "execution_count": null,
   "id": "5921c21e-4ea8-4909-b641-eec506e5f678",
   "metadata": {},
   "outputs": [],
   "source": [
    "def FAQ_bot(question):\n",
    "    context = \"\"\"Sunset Motors opened in 2005 and is located in Crestwood.\n",
    "    The dealership covers ten acres and sells Ford, Toyota, Honda, Chevrolet, and BMW cars.\"\"\"\n",
    "    \n",
    "    input_ids = tokenizer.encode(question, context)\n",
    "    tokens = tokenizer.convert_ids_to_tokens(input_ids)\n",
    "    sep_index = input_ids.index(tokenizer.sep_token_id)\n",
    "    num_seg_a = sep_index + 1\n",
    "    num_seg_b = len(input_ids) - num_seg_a\n",
    "    segment_ids = [0]*num_seg_a + [1]*num_seg_b\n",
    "\n",
    "    outputs = model(torch.tensor([input_ids]), token_type_ids=torch.tensor([segment_ids]))\n",
    "    start_idx = torch.argmax(outputs.start_logits)\n",
    "    end_idx = torch.argmax(outputs.end_logits)\n",
    "\n",
    "    if start_idx <= end_idx:\n",
    "        answer = tokens[start_idx:end_idx+1]\n",
    "        corrected_answer = \" \".join([word.replace(\"##\", \"\") for word in answer])\n",
    "        return corrected_answer\n",
    "    else:\n",
    "        return \"Sorry, I couldn't find the answer. Please ask another question.\""
   ]
  },
  {
   "cell_type": "code",
   "execution_count": null,
   "id": "f5da32d5-f7d0-4c42-920e-7c0d315c32ae",
   "metadata": {},
   "outputs": [],
   "source": [
    "print(\"Q: Where is the dealership located?\")\n",
    "print(\"A:\", FAQ_bot(\"Where is the dealership located?\"))\n",
    "print(\"Q: What make of cars are available?\")\n",
    "print(\"A:\", FAQ_bot(\"What make of cars are available?\"))\n",
    "print(\"Q: How large is the dealership?\")\n",
    "print(\"A:\", FAQ_bot(\"How large is the dealership?\"))"
   ]
  },
  {
   "cell_type": "code",
   "execution_count": null,
   "id": "3dae639d-f21a-40f3-a95d-a1cf66661a10",
   "metadata": {},
   "outputs": [],
   "source": [
    "from transformers import RobertaTokenizer, RobertaForQuestionAnswering\n",
    "\n",
    "roberta_tokenizer = RobertaTokenizer.from_pretrained(\"roberta-base\")\n",
    "roberta_model = RobertaForQuestionAnswering.from_pretrained(\"roberta-base\")\n"
   ]
  },
  {
   "cell_type": "code",
   "execution_count": null,
   "id": "be3de92f-b31a-4b88-8fac-1958fc5031e0",
   "metadata": {},
   "outputs": [],
   "source": [
    "from transformers import DistilBertTokenizer, DistilBertForQuestionAnswering\n",
    "\n",
    "distil_tokenizer = DistilBertTokenizer.from_pretrained(\"distilbert-base-uncased-distilled-squad\")\n",
    "distil_model = DistilBertForQuestionAnswering.from_pretrained(\"distilbert-base-uncased-distilled-squad\")\n"
   ]
  },
  {
   "cell_type": "code",
   "execution_count": null,
   "id": "1e821001-4263-47a9-9cb5-4c59b797ad0a",
   "metadata": {},
   "outputs": [],
   "source": []
  },
  {
   "cell_type": "code",
   "execution_count": null,
   "id": "90c76638-c7bd-4270-bf6f-d499b418858f",
   "metadata": {},
   "outputs": [],
   "source": []
  }
 ],
 "metadata": {
  "kernelspec": {
   "display_name": "llms_course_env",
   "language": "python",
   "name": "llms_course_env"
  },
  "language_info": {
   "codemirror_mode": {
    "name": "ipython",
    "version": 3
   },
   "file_extension": ".py",
   "mimetype": "text/x-python",
   "name": "python",
   "nbconvert_exporter": "python",
   "pygments_lexer": "ipython3",
   "version": "3.11.13"
  }
 },
 "nbformat": 4,
 "nbformat_minor": 5
}
